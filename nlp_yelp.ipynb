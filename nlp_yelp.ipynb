{
 "cells": [
  {
   "cell_type": "code",
   "execution_count": 1,
   "metadata": {
    "autoscroll": false,
    "collapsed": false,
    "ein.hycell": false,
    "ein.tags": "worksheet-0",
    "slideshow": {
     "slide_type": "-"
    }
   },
   "outputs": [
    {
     "name": "stdout",
     "output_type": "stream",
     "text": [
      "yelp_academic_dataset_business.json\n",
      "yelp_academic_dataset_review.json\n",
      "\n"
     ]
    }
   ],
   "source": [
    "import os\n",
    "import numpy as np\n",
    "import pandas as pd\n",
    "\n",
    "from subprocess import check_output\n",
    "print(check_output(['ls', './data/']).decode('utf8'))\n",
    "\n",
    "import matplotlib.pyplot as plt\n",
    "%matplotlib inline\n",
    "%config InlineBackend.figure_formats = {'png', 'retina'}\n",
    "\n",
    "import json"
   ]
  },
  {
   "cell_type": "code",
   "execution_count": 2,
   "metadata": {
    "autoscroll": false,
    "collapsed": false,
    "ein.hycell": false,
    "ein.tags": "worksheet-0",
    "slideshow": {
     "slide_type": "-"
    }
   },
   "outputs": [
    {
     "data": {
      "text/plain": [
       "                                                text\n0  My wife took me here on my birthday for breakf...\n1  I have no idea why some people give bad review...\n2  love the gyro plate. Rice is so good and I als...\n3  Rosie, Dakota, and I LOVE Chaparral Dog Park!!...\n4  General Manager Scott Petello is a good egg!!!..."
      ]
     },
     "execution_count": 2,
     "metadata": {},
     "output_type": "execute_result"
    }
   ],
   "source": [
    "from sklearn.feature_extraction.text import CountVectorizer\n",
    "review_file = 'data/yelp_academic_dataset_review.json'\n",
    "biz_file = 'data/yelp_academic_dataset_business.json'\n",
    "\n",
    "with open(review_file) as f:\n",
    "    js = []\n",
    "    for i in range(1000):\n",
    "        js.append(json.loads(f.readline()))\n",
    "\n",
    "review_df = pd.DataFrame(js)\n",
    "\n",
    "# take a look at the first five reviews\n",
    "review_df[['text']][:5]\n"
   ]
  },
  {
   "cell_type": "markdown",
   "metadata": {
    "ein.tags": "worksheet-0",
    "slideshow": {
     "slide_type": "-"
    }
   },
   "source": [
    "This dataset has more than 160,000 rows of data, it is basically impossible for me to build a model with the full dataset. So, I used only the first 1000 examples for practice purpose."
   ]
  },
  {
   "cell_type": "code",
   "execution_count": 3,
   "metadata": {
    "autoscroll": false,
    "collapsed": false,
    "ein.hycell": false,
    "ein.tags": "worksheet-0",
    "slideshow": {
     "slide_type": "-"
    }
   },
   "outputs": [
    {
     "name": "stdout",
     "output_type": "stream",
     "text": [
      "9925 65263 111809\n"
     ]
    }
   ],
   "source": [
    "#bag-of-words\n",
    "bow_converter = CountVectorizer(token_pattern='(?u)\\\\b\\\\w+\\\\b') # unigram\n",
    "bigram_converter = CountVectorizer(ngram_range=(2, 2),\n",
    "                                   token_pattern='(?u)\\\\b\\\\w+\\\\b')\n",
    "trigram_converter = CountVectorizer(ngram_range=(3, 3),\n",
    "                                    token_pattern='(?u)\\\\b\\\\w+\\\\b')\n",
    "\n",
    "bow_converter.fit(review_df['text'])\n",
    "words = bow_converter.get_feature_names()\n",
    "\n",
    "bigram_converter.fit(review_df['text'])\n",
    "bigrams = bigram_converter.get_feature_names()\n",
    "\n",
    "trigram_converter.fit(review_df['text'])\n",
    "trigrams = trigram_converter.get_feature_names()\n",
    "\n",
    "print(len(words), len(bigrams), len(trigrams))\n"
   ]
  },
  {
   "cell_type": "markdown",
   "metadata": {
    "ein.tags": "worksheet-0",
    "slideshow": {
     "slide_type": "-"
    }
   },
   "source": [
    "Bag of words (words frequency counting ) is just a special case of the n-gram method, i.e., uni-gram. As the number of grams increases, the number of features increases drastically, that is why we seldomly use grams larget than 3 (trigram)."
   ]
  },
  {
   "cell_type": "code",
   "execution_count": 4,
   "metadata": {
    "autoscroll": false,
    "collapsed": false,
    "ein.hycell": false,
    "ein.tags": "worksheet-0",
    "slideshow": {
     "slide_type": "-"
    }
   },
   "outputs": [
    {
     "name": "stdout",
     "output_type": "stream",
     "text": [
      "['0', '00', '000', '00pm', '02']\n",
      "================================================================================\n",
      "['zucchini the', 'zucchini was', 'zuch and', 'zupas officially', 'zuzus room']\n",
      "================================================================================\n",
      "['zucchini the zucchini', 'zucchini was really', 'zuch and asparagus', 'zupas officially opens', 'zuzus room service']\n"
     ]
    }
   ],
   "source": [
    "print(words[:5])\n",
    "print('='*80)\n",
    "print(bigrams[-5:])\n",
    "print('='*80)\n",
    "print(trigrams[-5:])\n"
   ]
  },
  {
   "cell_type": "code",
   "execution_count": 6,
   "metadata": {
    "autoscroll": false,
    "collapsed": false,
    "ein.hycell": false,
    "ein.tags": "worksheet-0",
    "slideshow": {
     "slide_type": "-"
    }
   },
   "outputs": [
    {
     "name": "stdout",
     "output_type": "stream",
     "text": [
      " unique unigrams=9925\n",
      " unique bigrams=65263\n"
     ]
    },
    {
     "data": {
      "text/plain": [
       "111809"
      ]
     },
     "execution_count": 6,
     "metadata": {},
     "output_type": "execute_result"
    }
   ],
   "source": [
    "\n",
    "print(\" unique unigrams={}\\n unique bigrams={}\".\n",
    "      format(len(set(words)), len(set(bigrams))))\n",
    "\n",
    "len(set(trigrams))"
   ]
  },
  {
   "cell_type": "markdown",
   "metadata": {
    "ein.tags": "worksheet-0",
    "slideshow": {
     "slide_type": "-"
    }
   },
   "source": [
    "## Use of Stemming"
   ]
  },
  {
   "cell_type": "markdown",
   "metadata": {
    "ein.tags": "worksheet-0",
    "slideshow": {
     "slide_type": "-"
    }
   },
   "source": [
    "## Use `nltk`"
   ]
  },
  {
   "cell_type": "code",
   "execution_count": 7,
   "metadata": {
    "autoscroll": false,
    "collapsed": false,
    "ein.hycell": false,
    "ein.tags": "worksheet-0",
    "slideshow": {
     "slide_type": "-"
    }
   },
   "outputs": [
    {
     "data": {
      "text/plain": [
       "'zero'"
      ]
     },
     "execution_count": 7,
     "metadata": {},
     "output_type": "execute_result"
    }
   ],
   "source": [
    "import nltk\n",
    "\n",
    "stemmer = nltk.stem.porter.PorterStemmer()\n",
    "stemmer.stem('zeroes')"
   ]
  },
  {
   "cell_type": "markdown",
   "metadata": {
    "ein.tags": "worksheet-0",
    "slideshow": {
     "slide_type": "-"
    }
   },
   "source": [
    "## Use `spacy`"
   ]
  },
  {
   "cell_type": "code",
   "execution_count": 8,
   "metadata": {
    "autoscroll": false,
    "collapsed": false,
    "ein.hycell": false,
    "ein.tags": "worksheet-0",
    "slideshow": {
     "slide_type": "-"
    }
   },
   "outputs": [
    {
     "name": "stdout",
     "output_type": "stream",
     "text": [
      "['General', 'PROPN', 'NNP']\n",
      "['Manager', 'PROPN', 'NNP']\n",
      "['Scott', 'PROPN', 'NNP']\n",
      "['Petello', 'PROPN', 'NNP']\n",
      "['is', 'VERB', 'VBZ']\n",
      "['a', 'DET', 'DT']\n",
      "['good', 'ADJ', 'JJ']\n",
      "['egg', 'NOUN', 'NN']\n",
      "['!', 'PUNCT', '.']\n",
      "['!', 'PUNCT', '.']\n",
      "['!', 'PUNCT', '.']\n",
      "['Not', 'ADV', 'RB']\n",
      "['to', 'PART', 'TO']\n",
      "['go', 'VERB', 'VB']\n",
      "['into', 'ADP', 'IN']\n",
      "['detail', 'NOUN', 'NN']\n",
      "[',', 'PUNCT', ',']\n",
      "['but', 'CCONJ', 'CC']\n",
      "['let', 'VERB', 'VB']\n",
      "['me', 'PRON', 'PRP']\n",
      "['assure', 'VERB', 'VB']\n",
      "['you', 'PRON', 'PRP']\n",
      "['if', 'ADP', 'IN']\n",
      "['you', 'PRON', 'PRP']\n",
      "['have', 'VERB', 'VBP']\n",
      "['any', 'DET', 'DT']\n",
      "['issues', 'NOUN', 'NNS']\n",
      "['(', 'PUNCT', '-LRB-']\n",
      "['albeit', 'ADP', 'IN']\n",
      "['rare', 'ADJ', 'JJ']\n",
      "[')', 'PUNCT', '-RRB-']\n",
      "['speak', 'VERB', 'VBP']\n",
      "['with', 'ADP', 'IN']\n",
      "['Scott', 'PROPN', 'NNP']\n",
      "['and', 'CCONJ', 'CC']\n",
      "['treat', 'VERB', 'VB']\n",
      "['the', 'DET', 'DT']\n",
      "['guy', 'NOUN', 'NN']\n",
      "['with', 'ADP', 'IN']\n",
      "['some', 'DET', 'DT']\n",
      "['respect', 'NOUN', 'NN']\n",
      "['as', 'ADP', 'IN']\n",
      "['you', 'PRON', 'PRP']\n",
      "['state', 'VERB', 'VBP']\n",
      "['your', 'ADJ', 'PRP$']\n",
      "['case', 'NOUN', 'NN']\n",
      "['and', 'CCONJ', 'CC']\n",
      "['I', 'PRON', 'PRP']\n",
      "[\"'d\", 'VERB', 'MD']\n",
      "['be', 'VERB', 'VB']\n",
      "['surprised', 'ADJ', 'JJ']\n",
      "['if', 'ADP', 'IN']\n",
      "['you', 'PRON', 'PRP']\n",
      "['do', 'VERB', 'VBP']\n",
      "[\"n't\", 'ADV', 'RB']\n",
      "['walk', 'VERB', 'VB']\n",
      "['out', 'ADV', 'RB']\n",
      "['totally', 'ADV', 'RB']\n",
      "['satisfied', 'ADJ', 'JJ']\n",
      "['as', 'ADP', 'IN']\n",
      "['I', 'PRON', 'PRP']\n",
      "['just', 'ADV', 'RB']\n",
      "['did', 'VERB', 'VBD']\n",
      "['.', 'PUNCT', '.']\n",
      "['Like', 'INTJ', 'UH']\n",
      "['I', 'PRON', 'PRP']\n",
      "['always', 'ADV', 'RB']\n",
      "['say', 'VERB', 'VBP']\n",
      "['.....', 'PUNCT', 'NFP']\n",
      "['\"', 'PUNCT', '``']\n",
      "['Mistakes', 'NOUN', 'NNS']\n",
      "['are', 'VERB', 'VBP']\n",
      "['inevitable', 'ADJ', 'JJ']\n",
      "[',', 'PUNCT', ',']\n",
      "['it', 'PRON', 'PRP']\n",
      "[\"'s\", 'VERB', 'VBZ']\n",
      "['how', 'ADV', 'WRB']\n",
      "['we', 'PRON', 'PRP']\n",
      "['recover', 'VERB', 'VBP']\n",
      "['from', 'ADP', 'IN']\n",
      "['them', 'PRON', 'PRP']\n",
      "['that', 'ADJ', 'WDT']\n",
      "['is', 'VERB', 'VBZ']\n",
      "['important', 'ADJ', 'JJ']\n",
      "['\"', 'PUNCT', \"''\"]\n",
      "['!', 'PUNCT', '.']\n",
      "['!', 'PUNCT', '.']\n",
      "['!', 'PUNCT', '.']\n",
      "['\\n\\n', 'SPACE', '_SP']\n",
      "['Thanks', 'NOUN', 'NNS']\n",
      "['to', 'ADP', 'IN']\n",
      "['Scott', 'PROPN', 'NNP']\n",
      "['and', 'CCONJ', 'CC']\n",
      "['his', 'ADJ', 'PRP$']\n",
      "['awesome', 'ADJ', 'JJ']\n",
      "['staff', 'NOUN', 'NN']\n",
      "['.', 'PUNCT', '.']\n",
      "['You', 'PRON', 'PRP']\n",
      "[\"'ve\", 'VERB', 'VB']\n",
      "['got', 'VERB', 'VBN']\n",
      "['a', 'DET', 'DT']\n",
      "['customer', 'NOUN', 'NN']\n",
      "['for', 'ADP', 'IN']\n",
      "['life', 'NOUN', 'NN']\n",
      "['!', 'PUNCT', '.']\n",
      "['!', 'PUNCT', '.']\n",
      "['..........', 'PUNCT', 'NFP']\n",
      "[':', 'PUNCT', ':']\n",
      "['^', 'PUNCT', 'NFP']\n",
      "[')', 'PUNCT', '-RRB-']\n"
     ]
    }
   ],
   "source": [
    "import spacy\n",
    "\n",
    "# use the first 10 reviews to exploration\n",
    "review_df2 = review_df[:10]\n",
    "\n",
    "nlp = spacy.load('en')\n",
    "doc_df = review_df2['text'].apply(nlp)\n",
    "\n",
    "for doc in doc_df[4]:\n",
    "    print([doc.text, doc.pos_, doc.tag_])\n"
   ]
  },
  {
   "cell_type": "code",
   "execution_count": 9,
   "metadata": {
    "autoscroll": false,
    "collapsed": false,
    "ein.hycell": false,
    "ein.tags": "worksheet-0",
    "slideshow": {
     "slide_type": "-"
    }
   },
   "outputs": [
    {
     "name": "stdout",
     "output_type": "stream",
     "text": [
      "[General Manager Scott Petello, a good egg, detail, me, you, you, any issues, Scott, the guy, some respect, you, your case, I, you, I, I, Mistakes, it, we, them, Thanks, Scott, his awesome staff, You, a customer, life]\n"
     ]
    }
   ],
   "source": [
    "# noun chunking\n",
    "print([chunk for chunk in doc_df[4].noun_chunks])"
   ]
  },
  {
   "cell_type": "markdown",
   "metadata": {
    "ein.tags": "worksheet-0",
    "slideshow": {
     "slide_type": "-"
    }
   },
   "source": [
    "## Use `textblob`"
   ]
  },
  {
   "cell_type": "code",
   "execution_count": 10,
   "metadata": {
    "autoscroll": false,
    "collapsed": false,
    "ein.hycell": false,
    "ein.tags": "worksheet-0",
    "slideshow": {
     "slide_type": "-"
    }
   },
   "outputs": [
    {
     "data": {
      "text/plain": [
       "[('General', 'NNP'),\n ('Manager', 'NNP'),\n ('Scott', 'NNP'),\n ('Petello', 'NNP'),\n ('is', 'VBZ'),\n ('a', 'DT'),\n ('good', 'JJ'),\n ('egg', 'NN'),\n ('Not', 'RB'),\n ('to', 'TO'),\n ('go', 'VB'),\n ('into', 'IN'),\n ('detail', 'NN'),\n ('but', 'CC'),\n ('let', 'VB'),\n ('me', 'PRP'),\n ('assure', 'VB'),\n ('you', 'PRP'),\n ('if', 'IN'),\n ('you', 'PRP'),\n ('have', 'VBP'),\n ('any', 'DT'),\n ('issues', 'NNS'),\n ('albeit', 'IN'),\n ('rare', 'NN'),\n ('speak', 'NN'),\n ('with', 'IN'),\n ('Scott', 'NNP'),\n ('and', 'CC'),\n ('treat', 'VB'),\n ('the', 'DT'),\n ('guy', 'NN'),\n ('with', 'IN'),\n ('some', 'DT'),\n ('respect', 'NN'),\n ('as', 'IN'),\n ('you', 'PRP'),\n ('state', 'NN'),\n ('your', 'PRP$'),\n ('case', 'NN'),\n ('and', 'CC'),\n ('I', 'PRP'),\n (\"'d\", 'MD'),\n ('be', 'VB'),\n ('surprised', 'VBN'),\n ('if', 'IN'),\n ('you', 'PRP'),\n ('do', 'VBP'),\n (\"n't\", 'RB'),\n ('walk', 'VB'),\n ('out', 'RP'),\n ('totally', 'RB'),\n ('satisfied', 'JJ'),\n ('as', 'IN'),\n ('I', 'PRP'),\n ('just', 'RB'),\n ('did', 'VBD'),\n ('Like', 'IN'),\n ('I', 'PRP'),\n ('always', 'RB'),\n ('say', 'VBP'),\n ('..', 'VBP'),\n ('Mistakes', 'NNS'),\n ('are', 'VBP'),\n ('inevitable', 'JJ'),\n ('it', 'PRP'),\n (\"'s\", 'VBZ'),\n ('how', 'WRB'),\n ('we', 'PRP'),\n ('recover', 'VBP'),\n ('from', 'IN'),\n ('them', 'PRP'),\n ('that', 'WDT'),\n ('is', 'VBZ'),\n ('important', 'JJ'),\n ('Thanks', 'NNS'),\n ('to', 'TO'),\n ('Scott', 'NNP'),\n ('and', 'CC'),\n ('his', 'PRP$'),\n ('awesome', 'JJ'),\n ('staff', 'NN'),\n ('You', 'PRP'),\n (\"'ve\", 'VBP'),\n ('got', 'VBN'),\n ('a', 'DT'),\n ('customer', 'NN'),\n ('for', 'IN'),\n ('life', 'NN'),\n ('^', 'NN')]"
      ]
     },
     "execution_count": 10,
     "metadata": {},
     "output_type": "execute_result"
    }
   ],
   "source": [
    "# nltk.download('punkt')\n",
    "\n",
    "from textblob import TextBlob\n",
    "\n",
    "blob_df = review_df2['text'].apply(TextBlob)\n",
    "\n",
    "blob_df[4].tags"
   ]
  },
  {
   "cell_type": "code",
   "execution_count": 11,
   "metadata": {
    "autoscroll": false,
    "collapsed": false,
    "ein.hycell": false,
    "ein.tags": "worksheet-0",
    "slideshow": {
     "slide_type": "-"
    }
   },
   "outputs": [
    {
     "name": "stdout",
     "output_type": "stream",
     "text": [
      "['general manager', 'scott petello', 'good egg', 'scott', \"n't walk\", '... ..', 'mistakes', 'thanks', 'scott', 'awesome staff', '... ... ...']\n"
     ]
    }
   ],
   "source": [
    "print([np for np in blob_df[4].noun_phrases])"
   ]
  },
  {
   "cell_type": "markdown",
   "metadata": {
    "ein.tags": "worksheet-0",
    "slideshow": {
     "slide_type": "-"
    }
   },
   "source": [
    "## Tf-Idf (term frequency-inverse documents frequency)\n",
    "\n",
    "- $bow(w, d)$ = #times words $w$ apprears in document d\n",
    "- $tf-idf(w, d)$ = $bow(w, d)*N$/(# documents in which word $w$ appears)\n",
    "\n",
    "> $N$ is the total number of documents"
   ]
  },
  {
   "cell_type": "code",
   "execution_count": 12,
   "metadata": {
    "autoscroll": false,
    "collapsed": false,
    "ein.hycell": false,
    "ein.tags": "worksheet-0",
    "slideshow": {
     "slide_type": "-"
    }
   },
   "outputs": [],
   "source": [
    "# load datasets\n",
    "\n",
    "with open(biz_file) as f:\n",
    "    biz_df = pd.DataFrame([json.loads(x) for x in f.readlines()])\n",
    "\n",
    "with open(review_file) as f:\n",
    "    review_df = pd.DataFrame([json.loads(x) for x in f.readlines()])\n",
    "   "
   ]
  },
  {
   "cell_type": "code",
   "execution_count": 13,
   "metadata": {
    "autoscroll": false,
    "collapsed": false,
    "ein.hycell": false,
    "ein.tags": "worksheet-0",
    "slideshow": {
     "slide_type": "-"
    }
   },
   "outputs": [],
   "source": [
    "two_biz = biz_df[biz_df.apply(lambda x: 'Nightlife' in x['categories'] or 'Restaurants' in x['categories'], axis=1)]\n",
    "\n",
    "# combine two tables together\n",
    "twobiz_reviews = two_biz.merge(review_df, on='business_id', how='inner')\n",
    "\n",
    "# get features\n",
    "twobiz_reviews = twobiz_reviews[['business_id', 'name', 'starts_y',\n",
    "                                 'text', 'categories']]\n",
    "\n",
    "# get target \n",
    "twobiz_reviews['target'] = twobiz_reviews.apply(lambda x: 'Nightlife' in x['categories'], axis=1)"
   ]
  },
  {
   "cell_type": "code",
   "execution_count": 51,
   "metadata": {
    "autoscroll": false,
    "collapsed": false,
    "ein.hycell": false,
    "ein.tags": "worksheet-0",
    "slideshow": {
     "slide_type": "-"
    }
   },
   "outputs": [
    {
     "name": "stdout",
     "output_type": "stream",
     "text": [
      "nightlife=31346, restaurant=153886, ratio=0.204\n"
     ]
    }
   ],
   "source": [
    "# get distribution of data/\n",
    "nightlife = ['Nightlife' in nt for nt in twobiz_reviews['categories']].count(True)\n",
    "restaurant = ['Restaurants' in rt for rt in twobiz_reviews['categories']].count(True)\n",
    "\n",
    "print(f'nightlife={nightlife}, restaurant={restaurant}, ratio={nightlife/restaurant :.3f}')"
   ]
  },
  {
   "cell_type": "markdown",
   "metadata": {
    "ein.tags": "worksheet-0",
    "slideshow": {
     "slide_type": "-"
    }
   },
   "source": [
    "In our data, the number of observations that contain *restaurants* is only 1/5 of those contain *nightlife*. To make a fast illustration, we can downsample the data and while still keep the imbalanced feature of the data. Hence, we will sample about 10% of observations from the 'Restaurants' observations, and 2% from the 'Nightlife' one."
   ]
  },
  {
   "cell_type": "code",
   "execution_count": 88,
   "metadata": {
    "autoscroll": false,
    "collapsed": false,
    "ein.hycell": false,
    "ein.tags": "worksheet-0",
    "slideshow": {
     "slide_type": "-"
    }
   },
   "outputs": [],
   "source": [
    "nightlife = twobiz_reviews[twobiz_reviews.apply(lambda x: \"Nightlife\" in x['categories'], axis=1)]\n",
    "nightlife_set = nightlife.sample(frac=0.1, random_state=42)\n",
    "restaurants = twobiz_reviews[twobiz_reviews.apply(lambda x: \"Restaurants\" in x['categories'], axis=1)]\n",
    "restaurant_set = restaurants.sample(frac=0.021, random_state=42)\n",
    "\n",
    "combined_dt = pd.concat([nightlife_set, restaurant_set])\n"
   ]
  },
  {
   "cell_type": "code",
   "execution_count": 87,
   "metadata": {
    "autoscroll": false,
    "collapsed": false,
    "ein.hycell": false,
    "ein.tags": "worksheet-0",
    "slideshow": {
     "slide_type": "-"
    }
   },
   "outputs": [
    {
     "data": {
      "text/plain": [
       "(6367, 23)"
      ]
     },
     "execution_count": 87,
     "metadata": {},
     "output_type": "execute_result"
    }
   ],
   "source": [
    "combined_dt.shape"
   ]
  },
  {
   "cell_type": "code",
   "execution_count": 120,
   "metadata": {
    "autoscroll": false,
    "collapsed": false,
    "ein.hycell": false,
    "ein.tags": "worksheet-0",
    "slideshow": {
     "slide_type": "-"
    }
   },
   "outputs": [
    {
     "name": "stderr",
     "output_type": "stream",
     "text": [
      "/usr/local/lib/python3.6/site-packages/sklearn/model_selection/_split.py:2026: FutureWarning: From version 0.21, test_size will always complement train_size unless both are specified.\n",
      "  FutureWarning)\n"
     ]
    },
    {
     "name": "stdout",
     "output_type": "stream",
     "text": [
      "19076\n"
     ]
    }
   ],
   "source": [
    "from sklearn import model_selection as modelsel\n",
    "from sklearn import preprocessing as preproc\n",
    "from sklearn.feature_extraction import text\n",
    "\n",
    "train_data, test_data = modelsel.train_test_split(combined_dt,\n",
    "                                                     train_size=0.7,\n",
    "                                                     random_state=42)\n",
    "bow_transform = text.CountVectorizer()\n",
    "\n",
    "X_tr_bow = bow_transform.fit_transform(train_data['text'])\n",
    "X_ts_bow = bow_transform.transform(test_data['text'])\n",
    "\n",
    "print(len(bow_transform.vocabulary_))\n",
    "\n",
    "y_tr = train_data['target']\n",
    "y_ts = test_data['target']\n",
    "\n",
    "tfidf_trfm = text.TfidfTransformer(norm=None)\n",
    "\n",
    "X_tr_tfidf = tfidf_trfm.fit_transform(X_tr_bow)\n",
    "X_ts_tfidf = tfidf_trfm.transform(X_ts_bow)\n",
    "\n",
    "X_tr_l2 = preproc.normalize(X_tr_bow, axis=0)\n",
    "X_ts_l2 = preproc.normalize(X_ts_bow, axis=0)\n",
    "\n"
   ]
  },
  {
   "cell_type": "code",
   "execution_count": 121,
   "metadata": {
    "autoscroll": false,
    "collapsed": false,
    "ein.hycell": false,
    "ein.tags": "worksheet-0",
    "slideshow": {
     "slide_type": "-"
    }
   },
   "outputs": [],
   "source": [
    "from sklearn.linear_model import LogisticRegression\n",
    "\n",
    "def log_clf(X_tr, y_tr, X_ts, y_tt, description):\n",
    "    m = LogisticRegression().fit(X_tr, y_tr)\n",
    "    score = m.score(X_ts, y_ts)\n",
    "    print(\"Test score with\", description, \"feature:\", score)\n",
    "    return m"
   ]
  },
  {
   "cell_type": "code",
   "execution_count": 123,
   "metadata": {
    "autoscroll": false,
    "collapsed": false,
    "ein.hycell": false,
    "ein.tags": "worksheet-0",
    "slideshow": {
     "slide_type": "-"
    }
   },
   "outputs": [
    {
     "name": "stdout",
     "output_type": "stream",
     "text": [
      "Test score with bow feature: 0.7535321821036107\n"
     ]
    },
    {
     "name": "stdout",
     "output_type": "stream",
     "text": [
      "Test score with tf-idf feature: 0.7409733124018838\n",
      "Test score with L2-Norm feature: 0.7713239141810571\n"
     ]
    }
   ],
   "source": [
    "m1 = log_clf(X_tr_bow, y_tr, X_ts_bow, y_ts, 'bow')\n",
    "m2 = log_clf(X_tr_tfidf, y_tr, X_ts_tfidf, y_ts, 'tf-idf')\n",
    "m3 = log_clf(X_tr_l2, y_tr, X_ts_l2, y_ts, 'L2-Norm')"
   ]
  },
  {
   "cell_type": "code",
   "execution_count": 133,
   "metadata": {
    "autoscroll": false,
    "collapsed": false,
    "ein.hycell": false,
    "ein.tags": "worksheet-0",
    "slideshow": {
     "slide_type": "-"
    }
   },
   "outputs": [
    {
     "data": {
      "text/plain": [
       "GridSearchCV(cv=5, error_score='raise',\n       estimator=LogisticRegression(C=1.0, class_weight=None, dual=False, fit_intercept=True,\n          intercept_scaling=1, max_iter=100, multi_class='ovr', n_jobs=1,\n          penalty='l2', random_state=None, solver='liblinear', tol=0.0001,\n          verbose=0, warm_start=False),\n       fit_params=None, iid=True, n_jobs=1,\n       param_grid={'C': [1e-05, 0.001, 0.1, 1.0, 10.0, 100.0]},\n       pre_dispatch='2*n_jobs', refit=True, return_train_score='warn',\n       scoring=None, verbose=0)"
      ]
     },
     "execution_count": 133,
     "metadata": {},
     "output_type": "execute_result"
    }
   ],
   "source": [
    "# help(logistic_reg)\n",
    "\n",
    "param_dist = {'C': [1e-5, 1e-3, 1e-1, 1e0, 1e1, 1e2]}\n",
    "bow_search = modelsel.GridSearchCV(LogisticRegression(), cv=5,\n",
    "                                   param_grid=param_dist)\n",
    "bow_search.fit(X_tr_bow, y_tr)"
   ]
  },
  {
   "cell_type": "code",
   "execution_count": 147,
   "metadata": {
    "autoscroll": false,
    "collapsed": false,
    "ein.hycell": false,
    "ein.tags": "worksheet-0",
    "slideshow": {
     "slide_type": "-"
    }
   },
   "outputs": [
    {
     "data": {
      "text/plain": [
       "GridSearchCV(cv=5, error_score='raise',\n       estimator=LogisticRegression(C=1.0, class_weight=None, dual=False, fit_intercept=True,\n          intercept_scaling=1, max_iter=100, multi_class='ovr', n_jobs=1,\n          penalty='l2', random_state=None, solver='liblinear', tol=0.0001,\n          verbose=0, warm_start=False),\n       fit_params=None, iid=True, n_jobs=1,\n       param_grid={'C': [1e-05, 0.001, 0.1, 1.0, 10.0, 100.0]},\n       pre_dispatch='2*n_jobs', refit=True, return_train_score='warn',\n       scoring=None, verbose=0)"
      ]
     },
     "execution_count": 147,
     "metadata": {},
     "output_type": "execute_result"
    }
   ],
   "source": [
    "l2_search = modelsel.GridSearchCV(LogisticRegression(), cv=5, param_grid=param_dist)\n",
    "l2_search.fit(X_tr_l2, y_tr)"
   ]
  },
  {
   "cell_type": "code",
   "execution_count": 148,
   "metadata": {
    "autoscroll": false,
    "collapsed": false,
    "ein.hycell": false,
    "ein.tags": "worksheet-0",
    "slideshow": {
     "slide_type": "-"
    }
   },
   "outputs": [
    {
     "data": {
      "text/plain": [
       "array([0.56373429, 0.56373429, 0.59088869, 0.7322711 , 0.75830341,\n       0.75044883])"
      ]
     },
     "execution_count": 148,
     "metadata": {},
     "output_type": "execute_result"
    }
   ],
   "source": [
    "l2_search.cv_results_['mean_test_score']"
   ]
  },
  {
   "cell_type": "code",
   "execution_count": 149,
   "metadata": {
    "autoscroll": false,
    "collapsed": false,
    "ein.hycell": false,
    "ein.tags": "worksheet-0",
    "slideshow": {
     "slide_type": "-"
    }
   },
   "outputs": [
    {
     "data": {
      "text/plain": [
       "GridSearchCV(cv=5, error_score='raise',\n       estimator=LogisticRegression(C=1.0, class_weight=None, dual=False, fit_intercept=True,\n          intercept_scaling=1, max_iter=100, multi_class='ovr', n_jobs=1,\n          penalty='l2', random_state=None, solver='liblinear', tol=0.0001,\n          verbose=0, warm_start=False),\n       fit_params=None, iid=True, n_jobs=1,\n       param_grid={'C': [1e-05, 0.001, 0.1, 1.0, 10.0, 100.0]},\n       pre_dispatch='2*n_jobs', refit=True, return_train_score='warn',\n       scoring=None, verbose=0)"
      ]
     },
     "execution_count": 149,
     "metadata": {},
     "output_type": "execute_result"
    }
   ],
   "source": [
    "tfidf_search = modelsel.GridSearchCV(LogisticRegression(), cv=5, param_grid=param_dist)\n",
    "tfidf_search.fit(X_tr_tfidf, y_tr)"
   ]
  },
  {
   "cell_type": "code",
   "execution_count": 150,
   "metadata": {
    "autoscroll": false,
    "collapsed": false,
    "ein.hycell": false,
    "ein.tags": "worksheet-0",
    "slideshow": {
     "slide_type": "-"
    }
   },
   "outputs": [
    {
     "data": {
      "text/plain": [
       "array([0.60008977, 0.77872531, 0.75381508, 0.74842908, 0.74079892,\n       0.71992819])"
      ]
     },
     "execution_count": 150,
     "metadata": {},
     "output_type": "execute_result"
    }
   ],
   "source": [
    "tfidf_search.cv_results_['mean_test_score']"
   ]
  },
  {
   "cell_type": "code",
   "execution_count": 151,
   "metadata": {
    "autoscroll": false,
    "collapsed": false,
    "ein.hycell": false,
    "ein.tags": "worksheet-0",
    "slideshow": {
     "slide_type": "-"
    }
   },
   "outputs": [
    {
     "data": {
      "text/plain": [
       "array([0.56373429, 0.71499102, 0.75740575, 0.74685817, 0.73788151,\n       0.73743268])"
      ]
     },
     "execution_count": 151,
     "metadata": {},
     "output_type": "execute_result"
    }
   ],
   "source": [
    "bow_search.cv_results_['mean_test_score']"
   ]
  },
  {
   "cell_type": "code",
   "execution_count": 152,
   "metadata": {
    "autoscroll": false,
    "collapsed": false,
    "ein.hycell": false,
    "ein.tags": "worksheet-0",
    "slideshow": {
     "slide_type": "-"
    }
   },
   "outputs": [
    {
     "data": {
      "image/png": "[encoded data removed]",
      "text/plain": [
       "<Figure size 432x288 with 1 Axes>"
      ]
     },
     "metadata": {},
     "output_type": "display_data"
    }
   ],
   "source": [
    "search_results = pd.DataFrame.from_dict({'bow': bow_search.cv_results_['mean_test_score'],\n",
    "                                         'L2': l2_search.cv_results_['mean_test_score'],\n",
    "                                         'td-idf': tfidf_search.cv_results_['mean_test_score']})\n",
    "\n",
    "import seaborn as sns\n",
    "\n",
    "ax = sns.boxplot(data=search_results, width=0.35)\n",
    "ax.set_ylabel('Accuracy', size=14)\n",
    "ax.tick_params(labelsize=14)\n",
    "\n"
   ]
  },
  {
   "cell_type": "markdown",
   "metadata": {
    "ein.tags": "worksheet-0",
    "slideshow": {
     "slide_type": "-"
    }
   },
   "source": [
    "\n",
    "For our small text dataset, the tf-idf algorithm seems to work slightly better than the bag-of-words. The L2-norm has the worst accuracy score. Essentially, tf-idf and L2-norm work in a similar manner. They both do column scaling, as a scaler is applied  column-wise to the training data. The only difference is that the scaler tf-idf uses can be zero, while a L2-norm is less likely be zero. A disadvantage of L2-norm is the potential effect of outlier.\n",
    "\n"
   ]
  }
 ],
 "metadata": {
  "kernelspec": {
   "display_name": "Python 3",
   "name": "python3"
  },
  "name": "nlp_yelp.ipynb"
 },
 "nbformat": 4,
 "nbformat_minor": 2
}
